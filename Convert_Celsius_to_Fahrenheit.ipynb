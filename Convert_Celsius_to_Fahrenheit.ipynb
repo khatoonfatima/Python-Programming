{
  "nbformat": 4,
  "nbformat_minor": 0,
  "metadata": {
    "colab": {
      "name": "Convert Celsius to Fahrenheit.ipynb",
      "provenance": [],
      "authorship_tag": "ABX9TyOQeG8w3vjm1ilzlbsYU3F2",
      "include_colab_link": true
    },
    "kernelspec": {
      "name": "python3",
      "display_name": "Python 3"
    },
    "language_info": {
      "name": "python"
    }
  },
  "cells": [
    {
      "cell_type": "markdown",
      "metadata": {
        "id": "view-in-github",
        "colab_type": "text"
      },
      "source": [
        "<a href=\"https://colab.research.google.com/github/khatoonfatima/Python-Programming/blob/master/Convert_Celsius_to_Fahrenheit.ipynb\" target=\"_parent\"><img src=\"https://colab.research.google.com/assets/colab-badge.svg\" alt=\"Open In Colab\"/></a>"
      ]
    },
    {
      "cell_type": "code",
      "execution_count": 6,
      "metadata": {
        "id": "3hKE3ppIKIz7"
      },
      "outputs": [],
      "source": [
        "#Declare a function that accepts a temperature in Celsius and returns it in Fahrenheit.\n",
        "\n",
        "def convert_to_fahrenheit(celsius_temp):\n",
        "  product=celsius_temp * 1.8  #Rule to calculate the fahrenheit or celcius temperature \n",
        "  return product + 32\n",
        "  \n",
        "  \n",
        "\n"
      ]
    },
    {
      "cell_type": "code",
      "source": [
        "len(\"Hello\")"
      ],
      "metadata": {
        "colab": {
          "base_uri": "https://localhost:8080/"
        },
        "id": "bGkonQiw0pZS",
        "outputId": "7bbdb32d-e86f-42fc-ad13-7ff0636ebeaf"
      },
      "execution_count": 7,
      "outputs": [
        {
          "output_type": "execute_result",
          "data": {
            "text/plain": [
              "5"
            ]
          },
          "metadata": {},
          "execution_count": 7
        }
      ]
    },
    {
      "cell_type": "code",
      "source": [
        "convert_to_fahrenheit(0)"
      ],
      "metadata": {
        "colab": {
          "base_uri": "https://localhost:8080/"
        },
        "id": "o8SDF2mW03Zp",
        "outputId": "80e4cc9b-3a97-454c-e5b6-705873a74e8a"
      },
      "execution_count": 4,
      "outputs": [
        {
          "output_type": "execute_result",
          "data": {
            "text/plain": [
              "32.0"
            ]
          },
          "metadata": {},
          "execution_count": 4
        }
      ]
    },
    {
      "cell_type": "code",
      "source": [
        "convert_to_fahrenheit(14)"
      ],
      "metadata": {
        "colab": {
          "base_uri": "https://localhost:8080/"
        },
        "id": "zuSSD6hs09Jz",
        "outputId": "0ee28f2a-5307-4a4f-96e5-d8aff8fdddd1"
      },
      "execution_count": 8,
      "outputs": [
        {
          "output_type": "execute_result",
          "data": {
            "text/plain": [
              "57.2"
            ]
          },
          "metadata": {},
          "execution_count": 8
        }
      ]
    },
    {
      "cell_type": "code",
      "source": [
        "convert_to_fahrenheit(celsius_temp=24)"
      ],
      "metadata": {
        "colab": {
          "base_uri": "https://localhost:8080/"
        },
        "id": "S2xvyqmn1JMp",
        "outputId": "29ddd62e-6823-4f33-9efd-5b8d7783bf27"
      },
      "execution_count": 9,
      "outputs": [
        {
          "output_type": "execute_result",
          "data": {
            "text/plain": [
              "75.2"
            ]
          },
          "metadata": {},
          "execution_count": 9
        }
      ]
    }
  ]
}