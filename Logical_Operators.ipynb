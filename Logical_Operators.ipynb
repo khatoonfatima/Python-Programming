{
  "nbformat": 4,
  "nbformat_minor": 0,
  "metadata": {
    "colab": {
      "name": "Logical Operators.ipynb",
      "provenance": [],
      "authorship_tag": "ABX9TyP9+sd9twycMvpAILhG6ETN",
      "include_colab_link": true
    },
    "kernelspec": {
      "name": "python3",
      "display_name": "Python 3"
    },
    "language_info": {
      "name": "python"
    }
  },
  "cells": [
    {
      "cell_type": "markdown",
      "metadata": {
        "id": "view-in-github",
        "colab_type": "text"
      },
      "source": [
        "<a href=\"https://colab.research.google.com/github/khatoonfatima/Python-Programming/blob/master/Logical_Operators.ipynb\" target=\"_parent\"><img src=\"https://colab.research.google.com/assets/colab-badge.svg\" alt=\"Open In Colab\"/></a>"
      ]
    },
    {
      "cell_type": "code",
      "metadata": {
        "colab": {
          "base_uri": "https://localhost:8080/"
        },
        "id": "ZpyJd6-IGPZE",
        "outputId": "3cb481d8-4880-4bc3-c5e0-bdaf2f8f3317"
      },
      "source": [
        "a=12\n",
        "a > 10 and a < 13"
      ],
      "execution_count": null,
      "outputs": [
        {
          "output_type": "execute_result",
          "data": {
            "text/plain": [
              "True"
            ]
          },
          "metadata": {},
          "execution_count": 3
        }
      ]
    },
    {
      "cell_type": "code",
      "metadata": {
        "colab": {
          "base_uri": "https://localhost:8080/"
        },
        "id": "xY9zSSrHHNBT",
        "outputId": "ba021fac-e697-4725-f3ae-ed80ce35d698"
      },
      "source": [
        "a > 10 and a >15"
      ],
      "execution_count": null,
      "outputs": [
        {
          "output_type": "execute_result",
          "data": {
            "text/plain": [
              "False"
            ]
          },
          "metadata": {},
          "execution_count": 4
        }
      ]
    },
    {
      "cell_type": "code",
      "metadata": {
        "colab": {
          "base_uri": "https://localhost:8080/"
        },
        "id": "LeGiefmRHczr",
        "outputId": "0f90218f-d7d3-4644-9cde-2e651ec3c97f"
      },
      "source": [
        "a > 10 or a >15"
      ],
      "execution_count": null,
      "outputs": [
        {
          "output_type": "execute_result",
          "data": {
            "text/plain": [
              "True"
            ]
          },
          "metadata": {},
          "execution_count": 6
        }
      ]
    },
    {
      "cell_type": "code",
      "metadata": {
        "id": "a1DfSgfgHh8g"
      },
      "source": [
        "print(\"Welcome to the roller coaster ride\")\n",
        "\n",
        "height=int(input(\"Enter your height in centimeter\"))\n",
        "if height >=120 :\n",
        "  print(\"You can take the ride\")\n",
        "  age=int(input(\"Enter your age\"))\n",
        "  if age <= 12:\n",
        "    print(\"You have to pay $5\")\n",
        "  elif age>=12 and age <=18:\n",
        "    print(\"if you are between the age 12 and 18 you have to pay $7\")\n",
        "  elif age >= 45 and age <=55:\n",
        "    print(\"Don't worry everything will be ok, Lets have a free ride\")\n",
        "  else:\n",
        "    print(\"You have to pay $12\")\n",
        "else: \n",
        "  print(\"You can't take the ride\")\n"
      ],
      "execution_count": null,
      "outputs": []
    }
  ]
}