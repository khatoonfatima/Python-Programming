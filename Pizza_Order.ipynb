{
  "nbformat": 4,
  "nbformat_minor": 0,
  "metadata": {
    "colab": {
      "name": "Pizza Order.ipynb",
      "provenance": [],
      "collapsed_sections": [],
      "authorship_tag": "ABX9TyOX9jADOkGblDVT1oJqF+iy",
      "include_colab_link": true
    },
    "kernelspec": {
      "name": "python3",
      "display_name": "Python 3"
    },
    "language_info": {
      "name": "python"
    }
  },
  "cells": [
    {
      "cell_type": "markdown",
      "metadata": {
        "id": "view-in-github",
        "colab_type": "text"
      },
      "source": [
        "<a href=\"https://colab.research.google.com/github/khatoonfatima/Python-Programming/blob/master/Pizza_Order.ipynb\" target=\"_parent\"><img src=\"https://colab.research.google.com/assets/colab-badge.svg\" alt=\"Open In Colab\"/></a>"
      ]
    },
    {
      "cell_type": "code",
      "metadata": {
        "colab": {
          "base_uri": "https://localhost:8080/"
        },
        "id": "mfG5zEeIMrHq",
        "outputId": "bfd1842b-33a7-46a9-a1c7-08971f5e2994"
      },
      "source": [
        "#Own Method \n",
        "print(\"Welcome to python Pizza Deliveries\")\n",
        "\n",
        "bill=0\n",
        "size=input(\"Enter the size of Pizza you like to have? S,,M,L\")\n",
        "if size=='S':\n",
        "  bill +=15\n",
        "elif size=='M':\n",
        "  bill +=20\n",
        "else:\n",
        "  bill +=25\n",
        "  add_pepperoni=input(\"Do you want to take pepperoni? Y or N\")\n",
        "  \n",
        "if pepperoni=='Y':\n",
        "    print(\"Which size of pepperoni would you like to have\")\n",
        "    if size_pepperoni=='S':\n",
        "      bill +=2\n",
        "    else:\n",
        "     bill +=3\n",
        "     \n",
        "extra_cheese=input(\"Do you want any extra cheese?Y or N\")\n",
        "if extra_cheese=='Y':\n",
        "  bill +=1\n",
        "  print(f\"Your total bill is {bill}\")\n",
        "    \n",
        "\n",
        "\n",
        "\n"
      ],
      "execution_count": 30,
      "outputs": [
        {
          "output_type": "stream",
          "name": "stdout",
          "text": [
            "Welcome to python Pizza Deliveries\n",
            "Enter the size of Pizza you like to have? S,,M,LS\n",
            "Which size of pepperoni would you like to have\n",
            "Do you want any extra cheese?Y or NY\n",
            "Your total bill is 18\n"
          ]
        }
      ]
    },
    {
      "cell_type": "code",
      "metadata": {
        "colab": {
          "base_uri": "https://localhost:8080/"
        },
        "id": "lq2OJ_9Cwx0T",
        "outputId": "f41253ea-a1fc-4d5a-b6ea-6c5f95127625"
      },
      "source": [
        "#Second Method\n",
        "bill=0\n",
        "\n",
        "print(\"Welcome to the Python Pizza deliveries\")\n",
        "size=input(\"What pizza size you want to have? S,M,L\")\n",
        "add_pepperoni=input(\"Do you want to have extra pepperoni? Y or N\")\n",
        "size_pepperoni=input(\"Enter the size of pepperoni, S,M,L\")\n",
        "extra_cheese=input(\"Do you want to have extra cheese? Y or N\")\n",
        "\n",
        "if size=='S':\n",
        "  bill +=15\n",
        "elif size=='M':\n",
        "    bill +=20\n",
        "else:\n",
        "  bill +=25\n",
        "\n",
        "if add_pepperoni=='Y':\n",
        "  if size_pepperoni=='S':\n",
        "    bill +=2\n",
        "  else:\n",
        "    bill +=3\n",
        "  \n",
        "if extra_cheese=='Y':\n",
        "  bill +=1\n",
        "\n",
        "#total_bill=size + add_pepperoni + size_pepperoni + extra_cheese\n",
        "\n",
        "print(f\"You total bill is ${bill}\")\n",
        "\n"
      ],
      "execution_count": 20,
      "outputs": [
        {
          "output_type": "stream",
          "name": "stdout",
          "text": [
            "Welcome to the Python Pizza deliveries\n",
            "What pizza size you want to have? S,M,LS\n",
            "Do you want to have extra pepperoni? Y or NY\n",
            "Enter the size of pepperoni, S,M,LS\n",
            "Do you want to have extra cheese? Y or NY\n",
            "You total bill is $18\n"
          ]
        }
      ]
    }
  ]
}