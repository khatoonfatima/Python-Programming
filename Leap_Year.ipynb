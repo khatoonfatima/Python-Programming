{
  "nbformat": 4,
  "nbformat_minor": 0,
  "metadata": {
    "colab": {
      "name": "Leap Year.ipynb",
      "provenance": [],
      "collapsed_sections": [],
      "authorship_tag": "ABX9TyPehemJoK/d2mfORWSLZfgf",
      "include_colab_link": true
    },
    "kernelspec": {
      "name": "python3",
      "display_name": "Python 3"
    },
    "language_info": {
      "name": "python"
    }
  },
  "cells": [
    {
      "cell_type": "markdown",
      "metadata": {
        "id": "view-in-github",
        "colab_type": "text"
      },
      "source": [
        "<a href=\"https://colab.research.google.com/github/khatoonfatima/Python-Programming/blob/master/Leap_Year.ipynb\" target=\"_parent\"><img src=\"https://colab.research.google.com/assets/colab-badge.svg\" alt=\"Open In Colab\"/></a>"
      ]
    },
    {
      "cell_type": "code",
      "metadata": {
        "colab": {
          "base_uri": "https://localhost:8080/"
        },
        "id": "zTLBpAclrt3i",
        "outputId": "b85fa47a-16e0-4570-bfca-ba38f5fc6f8c"
      },
      "source": [
        "print(\"Welcome to the leap year program!!!\")\n",
        "\n",
        "year=int(input(\"Enter the year you want to know the leap\"))\n",
        "\n",
        "#Rules of the leap year \n",
        "#1.Add an extra day every 4 years \n",
        "#2. Skip it if it's a new century\n",
        "#3.Unless the century is divisible by 400.\n",
        "\n",
        "#Condition on the leap year is \n",
        "#On every year that is evenly divisible by 4 except every year that is evenly divisible by 100 unless the year is also evenly divisibleby 400.\n",
        "if year%4==0 :   #remainder should be zero\n",
        "   print(\"It's a leap year\")\n",
        "else:\n",
        "    print(\"It's not a leap year\")\n",
        "    if year%100==0:\n",
        "      print(\"It's a leap year\")\n",
        "    else:\n",
        "      print(\"It's not a leap year\")\n",
        "      if year%400==0:\n",
        "        print(\"It's a leap year\")\n",
        "      else:\n",
        "          print(\"It's not a leap year\")\n"
      ],
      "execution_count": 27,
      "outputs": [
        {
          "output_type": "stream",
          "name": "stdout",
          "text": [
            "Welcome to know the leap year\n",
            "Enter the year you want to know the leap2006\n",
            "It's not a leap year\n",
            "Its not a leap year\n",
            "It's not a leap year\n"
          ]
        }
      ]
    },
    {
      "cell_type": "code",
      "metadata": {
        "id": "DN2M4r9WyLu_"
      },
      "source": [
        ""
      ],
      "execution_count": 25,
      "outputs": []
    }
  ]
}