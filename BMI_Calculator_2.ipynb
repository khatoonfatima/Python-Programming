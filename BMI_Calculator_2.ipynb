{
  "nbformat": 4,
  "nbformat_minor": 0,
  "metadata": {
    "colab": {
      "name": "BMI Calculator 2.ipynb",
      "provenance": [],
      "authorship_tag": "ABX9TyN8CzS7K6j+oWRhXf4+yJYT",
      "include_colab_link": true
    },
    "kernelspec": {
      "name": "python3",
      "display_name": "Python 3"
    },
    "language_info": {
      "name": "python"
    }
  },
  "cells": [
    {
      "cell_type": "markdown",
      "metadata": {
        "id": "view-in-github",
        "colab_type": "text"
      },
      "source": [
        "<a href=\"https://colab.research.google.com/github/khatoonfatima/Python-Programming/blob/master/BMI_Calculator_2.ipynb\" target=\"_parent\"><img src=\"https://colab.research.google.com/assets/colab-badge.svg\" alt=\"Open In Colab\"/></a>"
      ]
    },
    {
      "cell_type": "code",
      "metadata": {
        "colab": {
          "base_uri": "https://localhost:8080/"
        },
        "id": "dp4dDTEozglw",
        "outputId": "09919621-a2aa-4bf3-848b-e8be2a363c7e"
      },
      "source": [
        "print(\"Welcome to the BMI calculator\")\n",
        "\n",
        "height=float(input(\"Enter the height in meters\"))\n",
        "\n",
        "weight=float(input(\"Enter the weight in KG\"))\n",
        "\n",
        "BMI= weight/height**2\n",
        "\n",
        "if weight <= 18.5:\n",
        "  print(f'your BMI is {BMI},They have the underweight')\n",
        "elif weight >=18.5 and weight <=25:\n",
        "  print(f'your BMI is {BMI},They have the normal weight')\n",
        "elif weight >= 25 and weight <=30:\n",
        "  print(f'your BMI is {BMI},They are over weight')\n",
        "elif weight>=30 and weight<=35:\n",
        "  print(f'your BMI is {BMI}They are obese')\n",
        "else:\n",
        "\n",
        "  print(\"Above 35 they are clinically obese\")"
      ],
      "execution_count": 14,
      "outputs": [
        {
          "output_type": "stream",
          "name": "stdout",
          "text": [
            "Welcome to the BMI calculator\n",
            "Enter the height in meters13\n",
            "Enter the weight in KG81\n",
            "Above 35 they are clinically obese\n"
          ]
        }
      ]
    },
    {
      "cell_type": "code",
      "metadata": {
        "id": "nlAJkbTv0J3_"
      },
      "source": [
        ""
      ],
      "execution_count": null,
      "outputs": []
    }
  ]
}