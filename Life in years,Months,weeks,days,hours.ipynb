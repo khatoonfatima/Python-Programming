{
 "cells": [
  {
   "cell_type": "code",
   "execution_count": 1,
   "metadata": {},
   "outputs": [],
   "source": [
    "import math\n"
   ]
  },
  {
   "cell_type": "code",
   "execution_count": 5,
   "metadata": {},
   "outputs": [
    {
     "name": "stdout",
     "output_type": "stream",
     "text": [
      "Enter your age25\n"
     ]
    }
   ],
   "source": [
    "age=input(\"Enter your age\")   #As input is the string data type\n",
    "\n"
   ]
  },
  {
   "cell_type": "code",
   "execution_count": 14,
   "metadata": {},
   "outputs": [
    {
     "name": "stdout",
     "output_type": "stream",
     "text": [
      "your remaining age is 65\n",
      " your remaining months are 780\n",
      " your remaining weeks are 3380\n",
      " your remaining days are 23725\n",
      " your remaining hours are 569400\n"
     ]
    }
   ],
   "source": [
    "#Now we are doing the type conversion\n",
    "\n",
    "age_as_int=int(age)\n",
    "years_remaining = 90 - age_as_int\n",
    "months_remaining = years_remaining * 12\n",
    "weeks_remaining= years_remaining * 52\n",
    "days_remaining=years_remaining * 365\n",
    "hours_remaining= years_remaining * 8760\n",
    "\n",
    "print(f'your remaining age is {years_remaining}\\n your remaining months are {months_remaining}\\n your remaining weeks are {weeks_remaining}\\n your remaining days are {days_remaining}\\n your remaining hours are {hours_remaining}' )\n"
   ]
  }
 ],
 "metadata": {
  "kernelspec": {
   "display_name": "Python 3",
   "language": "python",
   "name": "python3"
  },
  "language_info": {
   "codemirror_mode": {
    "name": "ipython",
    "version": 3
   },
   "file_extension": ".py",
   "mimetype": "text/x-python",
   "name": "python",
   "nbconvert_exporter": "python",
   "pygments_lexer": "ipython3",
   "version": "3.8.3"
  }
 },
 "nbformat": 4,
 "nbformat_minor": 4
}
