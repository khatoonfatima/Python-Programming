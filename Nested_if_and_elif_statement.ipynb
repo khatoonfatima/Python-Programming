{
  "nbformat": 4,
  "nbformat_minor": 0,
  "metadata": {
    "colab": {
      "name": "Nested if and elif statement.ipynb",
      "provenance": [],
      "authorship_tag": "ABX9TyMPA3H5/3W3bf0pd0nlJF9h",
      "include_colab_link": true
    },
    "kernelspec": {
      "name": "python3",
      "display_name": "Python 3"
    },
    "language_info": {
      "name": "python"
    }
  },
  "cells": [
    {
      "cell_type": "markdown",
      "metadata": {
        "id": "view-in-github",
        "colab_type": "text"
      },
      "source": [
        "<a href=\"https://colab.research.google.com/github/khatoonfatima/Python-Programming/blob/master/Nested_if_and_elif_statement.ipynb\" target=\"_parent\"><img src=\"https://colab.research.google.com/assets/colab-badge.svg\" alt=\"Open In Colab\"/></a>"
      ]
    },
    {
      "cell_type": "code",
      "metadata": {
        "colab": {
          "base_uri": "https://localhost:8080/"
        },
        "id": "Mdk9hbbGoMbN",
        "outputId": "474cf8e1-e16b-48dc-f464-2fa31cdefee9"
      },
      "source": [
        "print(\"Welcome to the roller coaster ride\")\n",
        "\n",
        "height=int(input(\"Enter your height in centimeter\"))\n",
        "if height >=120 :\n",
        "  print(\"You can take the ride\")\n",
        "  age=int(input(\"Enter your age\"))\n",
        "  if age <= 12:\n",
        "    print(\"You have to pay $5\")\n",
        "  elif age>=12 and age <=18:\n",
        "    print(\"if you are between the age 12 and 18 you have to pay $7\")\n",
        "  else:\n",
        "    print(\"You have to pay $12\")\n",
        "else: \n",
        "  print(\"You can't take the ride\")\n"
      ],
      "execution_count": 17,
      "outputs": [
        {
          "output_type": "stream",
          "name": "stdout",
          "text": [
            "Welcome to the roller coaster ride\n",
            "Enter your height in centimeter122\n",
            "You can take the ride\n",
            "Enter your age19\n",
            "You have to pay $12\n"
          ]
        }
      ]
    },
    {
      "cell_type": "code",
      "metadata": {
        "id": "TiTkoY_toVh8"
      },
      "source": [
        ""
      ],
      "execution_count": null,
      "outputs": []
    }
  ]
}