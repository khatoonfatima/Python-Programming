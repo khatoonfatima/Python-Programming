{
  "nbformat": 4,
  "nbformat_minor": 0,
  "metadata": {
    "colab": {
      "name": "Series with Dictionaries.ipynb",
      "provenance": [],
      "authorship_tag": "ABX9TyOCxv7v3mGNpDF/GWjU5kJl",
      "include_colab_link": true
    },
    "kernelspec": {
      "name": "python3",
      "display_name": "Python 3"
    },
    "language_info": {
      "name": "python"
    }
  },
  "cells": [
    {
      "cell_type": "markdown",
      "metadata": {
        "id": "view-in-github",
        "colab_type": "text"
      },
      "source": [
        "<a href=\"https://colab.research.google.com/github/khatoonfatima/Python-Programming/blob/master/Series_with_Dictionaries.ipynb\" target=\"_parent\"><img src=\"https://colab.research.google.com/assets/colab-badge.svg\" alt=\"Open In Colab\"/></a>"
      ]
    },
    {
      "cell_type": "code",
      "execution_count": 2,
      "metadata": {
        "colab": {
          "base_uri": "https://localhost:8080/"
        },
        "id": "2ZzSLVvpT4FX",
        "outputId": "0f267f43-6b8a-49d8-9a7c-0343df3ce2fc"
      },
      "outputs": [
        {
          "output_type": "execute_result",
          "data": {
            "text/plain": [
              "{'Aardvark': 'An animal', 'Banana': 'A delicious fruit', 'Cyan': 'A color'}"
            ]
          },
          "metadata": {},
          "execution_count": 2
        }
      ],
      "source": [
        "#Creating a series object from a Dictionary\n",
        "\n",
        "webster={'Aardvark':'An animal', 'Banana': 'A delicious fruit', 'Cyan': 'A color'}\n",
        "\n",
        "webster"
      ]
    },
    {
      "cell_type": "code",
      "source": [
        "import pandas as pd"
      ],
      "metadata": {
        "id": "ib1mOcviVYrT"
      },
      "execution_count": 3,
      "outputs": []
    },
    {
      "cell_type": "code",
      "source": [
        "pd.Series(webster)"
      ],
      "metadata": {
        "colab": {
          "base_uri": "https://localhost:8080/"
        },
        "id": "6RF2Tk_3Vm52",
        "outputId": "b341c5ff-6606-4874-958b-66407407ce4e"
      },
      "execution_count": 4,
      "outputs": [
        {
          "output_type": "execute_result",
          "data": {
            "text/plain": [
              "Aardvark            An animal\n",
              "Banana      A delicious fruit\n",
              "Cyan                  A color\n",
              "dtype: object"
            ]
          },
          "metadata": {},
          "execution_count": 4
        }
      ]
    },
    {
      "cell_type": "code",
      "source": [
        "from unittest.mock import MagicMock"
      ],
      "metadata": {
        "id": "ldOm2pWiVrPU"
      },
      "execution_count": 5,
      "outputs": []
    },
    {
      "cell_type": "code",
      "source": [
        "# Create a list with 4 countries - United States, France, Germany, Italy\n",
        "# Create a new Series by passing in the list of countries\n",
        "# Assign the Series to a \"countries\" variable\n",
        "\n",
        "list=['United States','France','Germany','Italy']\n",
        "countries={'United States':True,'France':True,'Germany':True ,'Italy':True}"
      ],
      "metadata": {
        "id": "xVW38Yxxezou"
      },
      "execution_count": 12,
      "outputs": []
    },
    {
      "cell_type": "code",
      "source": [
        "pd.Series(countries)"
      ],
      "metadata": {
        "colab": {
          "base_uri": "https://localhost:8080/"
        },
        "id": "Re2zcYEmfaXo",
        "outputId": "e582c15f-55df-4094-f9af-da74cdf87ff5"
      },
      "execution_count": 13,
      "outputs": [
        {
          "output_type": "execute_result",
          "data": {
            "text/plain": [
              "United States    True\n",
              "France           True\n",
              "Germany          True\n",
              "Italy            True\n",
              "dtype: bool"
            ]
          },
          "metadata": {},
          "execution_count": 13
        }
      ]
    },
    {
      "cell_type": "code",
      "source": [
        "# Create a list with 3 colors - red, green, blue\n",
        "# Create a new Series by passing in the list of colors\n",
        "# Assign the Series to a \"colors\" variable\n",
        "\n",
        "list1=[\"red\",\"green\",\"blue\"]\n",
        "colors={'red':True,'green':True,'blue':'True'}\n"
      ],
      "metadata": {
        "id": "f-Y5edWKfkqX"
      },
      "execution_count": 15,
      "outputs": []
    },
    {
      "cell_type": "code",
      "source": [
        "pd.Series(colors)"
      ],
      "metadata": {
        "colab": {
          "base_uri": "https://localhost:8080/"
        },
        "id": "QXXtlcuGg-q-",
        "outputId": "d0a1aa81-c38f-4f16-cc3b-6d3ba789126c"
      },
      "execution_count": 16,
      "outputs": [
        {
          "output_type": "execute_result",
          "data": {
            "text/plain": [
              "red      True\n",
              "green    True\n",
              "blue     True\n",
              "dtype: object"
            ]
          },
          "metadata": {},
          "execution_count": 16
        }
      ]
    },
    {
      "cell_type": "code",
      "source": [
        "#Given the \"recipe\" dictionary below,\n",
        "# create a new Series by passing in the dictionary as the data source\n",
        "# Assign the resulting Series to a \"series_dict\" variable\n",
        "\n",
        "recipe = {\n",
        "  \"Flour\": True,\n",
        "  \"Sugar\": True,\n",
        "  \"Salt\": False\n",
        "}"
      ],
      "metadata": {
        "id": "hkEX-GcUhFeq"
      },
      "execution_count": 17,
      "outputs": []
    },
    {
      "cell_type": "code",
      "source": [
        "series_dict= {\n",
        "  \"Flour\": True,\n",
        "  \"Sugar\": True,\n",
        "  \"Salt\": False\n",
        "}"
      ],
      "metadata": {
        "id": "pCbGANpghR_C"
      },
      "execution_count": 20,
      "outputs": []
    },
    {
      "cell_type": "code",
      "source": [
        "pd.Series(series_dict)"
      ],
      "metadata": {
        "colab": {
          "base_uri": "https://localhost:8080/"
        },
        "id": "Ly96sgE0hjKT",
        "outputId": "9fceec2f-4149-458a-e12f-916ac2d6ef8c"
      },
      "execution_count": 21,
      "outputs": [
        {
          "output_type": "execute_result",
          "data": {
            "text/plain": [
              "Flour     True\n",
              "Sugar     True\n",
              "Salt     False\n",
              "dtype: bool"
            ]
          },
          "metadata": {},
          "execution_count": 21
        }
      ]
    },
    {
      "cell_type": "code",
      "source": [
        "#Alternate Method \n",
        "\n",
        "\n",
        "countries_list = [\"United States\", \"France\", \"Germany\", \"Italy\"]\n",
        "countries = pd.Series(countries_list)"
      ],
      "metadata": {
        "id": "mHbQZFJWhnz9"
      },
      "execution_count": 22,
      "outputs": []
    },
    {
      "cell_type": "code",
      "source": [
        "#Alternate Method\n",
        "colors_list = [\"red\", \"green\", \"blue\"]\n",
        "colors = pd.Series(colors_list)"
      ],
      "metadata": {
        "id": "ZmfkT_s4iR-p"
      },
      "execution_count": 23,
      "outputs": []
    },
    {
      "cell_type": "code",
      "source": [
        "#Alternate Method\n",
        "recipe = {\n",
        "  \"Flour\": True,\n",
        "  \"Sugar\": True,\n",
        "  \"Salt\": False\n",
        "}\n",
        "series_dict = pd.Series(recipe)"
      ],
      "metadata": {
        "id": "rQImn0m3iVEp"
      },
      "execution_count": 25,
      "outputs": []
    }
  ]
}