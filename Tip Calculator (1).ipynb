{
 "cells": [
  {
   "cell_type": "markdown",
   "metadata": {},
   "source": [
    "###### Tip Calculator\n",
    "\n",
    "#If the bill was 150 dollars,split between 5 people with 12% tip.\n",
    "#Each person should pay (150.00/5)*1.12\n",
    "#Round the result to 2 decimal places=33.60\n",
    "\n",
    "print(\"Welcome to te Tip Calculator\")\n",
    "\n",
    "a=input(\"What was the total bill?\")\n",
    "percentage=150*0.12\n",
    "b=input(\"What percentage tip would you like to give? 10,12,15\")\n",
    "\n",
    "c=input(\"How many people splitting the bill?\")\n",
    "each_person =.................... \n",
    "\n",
    "d=input(\"Each person should pay\" )"
   ]
  },
  {
   "cell_type": "code",
   "execution_count": 1,
   "metadata": {},
   "outputs": [
    {
     "data": {
      "text/plain": [
       "'Welcome to the tip calculator\\nwhat was the total bill?  $124.56\\nwhat percentage tip you like to give ? 10,12, or 15? 12\\nHow many people to split the bill? 7\\nEach person should pay: $19.93'"
      ]
     },
     "execution_count": 1,
     "metadata": {},
     "output_type": "execute_result"
    }
   ],
   "source": [
    "#expected output\n",
    "\"\"\"Welcome to the tip calculator\n",
    "what was the total bill?  $124.56\n",
    "what percentage tip you like to give ? 10,12, or 15? 12\n",
    "How many people to split the bill? 7\n",
    "Each person should pay: $19.93\"\"\"\n",
    "\n"
   ]
  },
  {
   "cell_type": "code",
   "execution_count": 4,
   "metadata": {},
   "outputs": [
    {
     "name": "stdout",
     "output_type": "stream",
     "text": [
      "Welcome to the tip calculator\n",
      "What is the total bill100\n",
      "What is tip would you like to give in percentage? 10,12 or 1510\n",
      "How many people to split the bill?4\n",
      "110.0\n"
     ]
    }
   ],
   "source": [
    "\n",
    "#Program\n",
    "\n",
    "print(\"Welcome to the tip calculator\")\n",
    "\n",
    "bill=float(input(\"What is the total bill\"))\n",
    "\n",
    "tip=int(input(\"What is tip would you like to give in percentage? 10,12 or 15\"))\n",
    "\n",
    "people=int(input(\"How many people to split the bill?\"))\n",
    "\n",
    "bill_with_tip= tip/100* bill + bill\n",
    "\n",
    "print(bill_with_tip)"
   ]
  },
  {
   "cell_type": "code",
   "execution_count": 8,
   "metadata": {},
   "outputs": [
    {
     "name": "stdout",
     "output_type": "stream",
     "text": [
      "Welcome to the tip calculator\n",
      "What is the total bill100\n",
      "What is tip would you like to give in percentage? 10,12 or 1520\n",
      "How many people to split the bill?4\n",
      "120.0\n"
     ]
    }
   ],
   "source": [
    "#Second Method\n",
    "\n",
    "print(\"Welcome to the tip calculator\")\n",
    "\n",
    "bill=float(input(\"What is the total bill\"))\n",
    "\n",
    "tip=int(input(\"What is tip would you like to give in percentage? 10,12 or 15\"))\n",
    "\n",
    "people=int(input(\"How many people to split the bill?\"))\n",
    "\n",
    "bill_with_tip= bill *(1 + tip/100)\n",
    "\n",
    "\n",
    "print(bill_with_tip)\n",
    "#print(round(bill_with_tip))   #for round up value"
   ]
  },
  {
   "cell_type": "code",
   "execution_count": 15,
   "metadata": {},
   "outputs": [
    {
     "name": "stdout",
     "output_type": "stream",
     "text": [
      "Welcome to the tip calculator\n",
      "What is the total bill100\n",
      "What is tip would you like to give in percentage? 10,12 or 1512\n",
      "How many people to split the bill?4\n",
      "Each person should pay 28.00 dollars\n"
     ]
    }
   ],
   "source": [
    "#Second Method\n",
    "\n",
    "print(\"Welcome to the tip calculator\")\n",
    "\n",
    "bill=float(input(\"What is the total bill\"))\n",
    "\n",
    "tip=int(input(\"What is tip would you like to give in percentage? 10,12 or 15\"))\n",
    "\n",
    "people=int(input(\"How many people to split the bill?\"))\n",
    "\n",
    "#bill_with_tip= bill *(1 + tip/100)\n",
    "\n",
    "tip_as_percent= tip/100 \n",
    "total_tip_amount= tip_as_percent * bill\n",
    "total_bill=bill + total_tip_amount\n",
    "bill_per_person=total_bill/people\n",
    "#final_amount=round(bill_per_person,2)\n",
    "final_amount=\"{:.2f}\".format(bill_per_person)\n",
    "\n",
    "print(f'Each person should pay {final_amount} dollars' )\n",
    "#print(bill_with_tip)\n",
    "#print(round(bill_with_tip))   #for round up value\n",
    "\n"
   ]
  },
  {
   "cell_type": "code",
   "execution_count": null,
   "metadata": {},
   "outputs": [],
   "source": []
  }
 ],
 "metadata": {
  "kernelspec": {
   "display_name": "Python 3",
   "language": "python",
   "name": "python3"
  },
  "language_info": {
   "codemirror_mode": {
    "name": "ipython",
    "version": 3
   },
   "file_extension": ".py",
   "mimetype": "text/x-python",
   "name": "python",
   "nbconvert_exporter": "python",
   "pygments_lexer": "ipython3",
   "version": "3.8.3"
  }
 },
 "nbformat": 4,
 "nbformat_minor": 4
}
