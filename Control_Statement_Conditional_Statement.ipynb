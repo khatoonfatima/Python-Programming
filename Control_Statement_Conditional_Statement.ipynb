{
  "nbformat": 4,
  "nbformat_minor": 0,
  "metadata": {
    "colab": {
      "provenance": []
    },
    "kernelspec": {
      "name": "python3",
      "display_name": "Python 3"
    },
    "language_info": {
      "name": "python"
    }
  },
  "cells": [
    {
      "cell_type": "code",
      "execution_count": null,
      "metadata": {
        "colab": {
          "base_uri": "https://localhost:8080/",
          "height": 52
        },
        "id": "Qe31VtcO6_MW",
        "outputId": "252a5fd2-8d06-4d77-8ece-86697b71b302"
      },
      "outputs": [
        {
          "output_type": "execute_result",
          "data": {
            "text/plain": [
              "'Conditional Statement\\n1. Introduction to Control Statement\\n2. if statement\\n3. else statement\\n4. elif statement\\n5. Nested Conditional statement\\n'"
            ],
            "application/vnd.google.colaboratory.intrinsic+json": {
              "type": "string"
            }
          },
          "metadata": {},
          "execution_count": 1
        }
      ],
      "source": [
        "\"\"\"Conditional Statement\n",
        "1. Introduction to Control Statement\n",
        "2. if statement\n",
        "3. else statement\n",
        "4. elif statement\n",
        "5. Nested Conditional statement\n",
        "\"\"\""
      ]
    },
    {
      "cell_type": "code",
      "source": [
        "#if statement\n",
        "age=20\n",
        "if age>=17:\n",
        "  print(\"you are allowed to vote in elections\")\n",
        "\n"
      ],
      "metadata": {
        "colab": {
          "base_uri": "https://localhost:8080/"
        },
        "id": "l6xepk1N7y6c",
        "outputId": "c78500f9-f0dc-4e82-84e8-2a90703e9c21"
      },
      "execution_count": null,
      "outputs": [
        {
          "output_type": "stream",
          "name": "stdout",
          "text": [
            "you are allowed to vote in elections\n"
          ]
        }
      ]
    },
    {
      "cell_type": "code",
      "source": [
        "age>=18"
      ],
      "metadata": {
        "id": "mGi3wJpw8Kdf",
        "colab": {
          "base_uri": "https://localhost:8080/"
        },
        "outputId": "48dd61ba-5a30-46d0-cce2-71b5266c1206"
      },
      "execution_count": null,
      "outputs": [
        {
          "output_type": "execute_result",
          "data": {
            "text/plain": [
              "True"
            ]
          },
          "metadata": {},
          "execution_count": 3
        }
      ]
    },
    {
      "cell_type": "code",
      "source": [
        "##Else statement\n",
        "#The else statement will execute the block of code if the condition in the IF statement is False\n",
        "age=16\n",
        "if age>=18:\n",
        "  print(\"you are eligible for voting\")\n",
        "\n",
        "else:\n",
        "  print(\"you are not\")"
      ],
      "metadata": {
        "colab": {
          "base_uri": "https://localhost:8080/"
        },
        "id": "vNKdfET-6wiE",
        "outputId": "4be60162-3f55-443c-d9a6-90a5899c0082"
      },
      "execution_count": null,
      "outputs": [
        {
          "output_type": "stream",
          "name": "stdout",
          "text": [
            "you are not\n"
          ]
        }
      ]
    },
    {
      "cell_type": "code",
      "source": [
        "#elif\n",
        "##elif statement allows multiple conditions, it stands for ELSE IF\n",
        "age=17\n",
        "if age<13:\n",
        "  print(\"you are a child\")\n",
        "elif age<18:\n",
        "  print(\"you are a teenager\")\n",
        "else:\n",
        "  print(\"you are an adult\")"
      ],
      "metadata": {
        "colab": {
          "base_uri": "https://localhost:8080/"
        },
        "id": "62vrhQsK7WIx",
        "outputId": "e11396c7-0028-412a-bf5e-99a49be88619"
      },
      "execution_count": null,
      "outputs": [
        {
          "output_type": "stream",
          "name": "stdout",
          "text": [
            "you are a teenager\n"
          ]
        }
      ]
    },
    {
      "cell_type": "code",
      "source": [
        "#elif\n",
        "##elif statement allows multiple conditions, it stands for ELSE IF\n",
        "age= 20\n",
        "if age<13:\n",
        "  print(\"you are a child\")\n",
        "elif age<18:\n",
        "  print(\"you are a teenager\")\n",
        "else:\n",
        "  print(\"you are an adult\")"
      ],
      "metadata": {
        "colab": {
          "base_uri": "https://localhost:8080/"
        },
        "id": "iDovnJgyI07j",
        "outputId": "289ff928-0c3c-4c2b-cc64-c092feb01523"
      },
      "execution_count": null,
      "outputs": [
        {
          "output_type": "stream",
          "name": "stdout",
          "text": [
            "you are an adult\n"
          ]
        }
      ]
    },
    {
      "cell_type": "code",
      "source": [
        "#Nested conditional statement\n",
        "#You can create a if,elif and else statement inside another if,elif and else statement to create Nested Conditional Statement\n",
        "#number even,odd, negative\n",
        "\n",
        "num=int(input(\"Enter the number\"))\n",
        "if num>=0:\n",
        "  print(\"number is positive\")\n",
        "  if num%2==0:\n",
        "    print(\"number is even\")\n",
        "  else:\n",
        "    print(\"The number is odd\")"
      ],
      "metadata": {
        "id": "48pX4twvJfvx",
        "colab": {
          "base_uri": "https://localhost:8080/"
        },
        "outputId": "bef69b19-f002-4971-d3c6-375b3949402c"
      },
      "execution_count": 2,
      "outputs": [
        {
          "output_type": "stream",
          "name": "stdout",
          "text": [
            "Enter the number2\n",
            "number is positive\n",
            "number is even\n"
          ]
        }
      ]
    },
    {
      "cell_type": "code",
      "source": [
        "#Nested conditional statement\n",
        "#You can create a if,elif and else statement inside another if,elif and else statement to create Nested Conditional Statement\n",
        "#number even,odd, negative\n",
        "\n",
        "num=int(input(\"Enter the number\"))\n",
        "if num>=0:\n",
        "  print(\"number is positive\")\n",
        "  if num%2==0:\n",
        "    print(\"number is even\")\n",
        "  else:\n",
        "    print(\"The number is odd\")"
      ],
      "metadata": {
        "id": "x-W6JzYHKneP",
        "colab": {
          "base_uri": "https://localhost:8080/"
        },
        "outputId": "ff0da3ab-efd6-441d-e781-22d2fc0a883e"
      },
      "execution_count": 3,
      "outputs": [
        {
          "output_type": "stream",
          "name": "stdout",
          "text": [
            "Enter the number3\n",
            "number is positive\n",
            "The number is odd\n"
          ]
        }
      ]
    },
    {
      "cell_type": "code",
      "source": [
        "# Write a program that asks the user for a year and replies with either leap year or not leap year"
      ],
      "metadata": {
        "id": "OLlKADueUw2L"
      },
      "execution_count": 4,
      "outputs": []
    },
    {
      "cell_type": "code",
      "source": [
        "#leap year program using Nested Conditional Statement\n",
        "#Leap year is a yera that is completely divisible by 4\n",
        "#if it is a century year:100,2000,2300 then it must be completely divisible by 400\n",
        "year=int(input(\"Enter the number\"))\n",
        "if(year%4)==0: #leap year check up\n",
        "   if(year%100)==0: #century year check\n",
        "      if(year%400)==0: #century year is the leap year completely divisible by 400\n",
        "          print(year,\"is a leap year\")\n",
        "      else:\n",
        "          print(year,\"is not a leap year\")\n",
        "   else:\n",
        "    print(\"century leap year\")\n",
        "\n",
        "else:\n",
        "  print(\"its a leap year\")"
      ],
      "metadata": {
        "colab": {
          "base_uri": "https://localhost:8080/"
        },
        "id": "Jbs4ajf_WcQW",
        "outputId": "74043549-f94e-481c-95bc-8bf7cc5ce948"
      },
      "execution_count": 12,
      "outputs": [
        {
          "output_type": "stream",
          "name": "stdout",
          "text": [
            "Enter the number4\n",
            "century leap year\n"
          ]
        }
      ]
    },
    {
      "cell_type": "code",
      "source": [
        "#Nested Conditional Statement\n",
        "numb=int(input(\"Enter the age\"))\n",
        "if numb>=20:\n",
        "  print(\"you are under 20\")\n",
        "\n",
        "else:\n",
        "  print(\"you are not \")\n"
      ],
      "metadata": {
        "colab": {
          "base_uri": "https://localhost:8080/"
        },
        "id": "DGQ6O3hYW4NT",
        "outputId": "d8c618e6-0d7f-42be-9e03-8e822fde7de7"
      },
      "execution_count": 15,
      "outputs": [
        {
          "output_type": "stream",
          "name": "stdout",
          "text": [
            "Enter the age19\n",
            "you are not \n"
          ]
        }
      ]
    }
  ]
}