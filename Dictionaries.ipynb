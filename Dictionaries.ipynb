{
  "nbformat": 4,
  "nbformat_minor": 0,
  "metadata": {
    "colab": {
      "name": "Dictionaries.ipynb",
      "provenance": [],
      "authorship_tag": "ABX9TyMGzmUCnpD2Yo+5hdQBngu+",
      "include_colab_link": true
    },
    "kernelspec": {
      "name": "python3",
      "display_name": "Python 3"
    },
    "language_info": {
      "name": "python"
    }
  },
  "cells": [
    {
      "cell_type": "markdown",
      "metadata": {
        "id": "view-in-github",
        "colab_type": "text"
      },
      "source": [
        "<a href=\"https://colab.research.google.com/github/khatoonfatima/Python-Programming/blob/master/Dictionaries.ipynb\" target=\"_parent\"><img src=\"https://colab.research.google.com/assets/colab-badge.svg\" alt=\"Open In Colab\"/></a>"
      ]
    },
    {
      "cell_type": "code",
      "execution_count": 1,
      "metadata": {
        "id": "yhddZoOSmyxw"
      },
      "outputs": [],
      "source": [
        "#An unordered collection of key-value pair"
      ]
    },
    {
      "cell_type": "code",
      "source": [
        "#Filet Mignon=29.99\n",
        "menu={'Filet Mignon': 29.99,\n",
        "      \"Big Macs\" : 3.99,\n",
        "      \"Pizza\": 0.99,\n",
        "      \"Salmon\":29.99\n",
        "}"
      ],
      "metadata": {
        "id": "7aw8j7O1q_Wi"
      },
      "execution_count": 2,
      "outputs": []
    },
    {
      "cell_type": "code",
      "source": [
        "menu\n"
      ],
      "metadata": {
        "colab": {
          "base_uri": "https://localhost:8080/"
        },
        "id": "32ZrC_svvYgr",
        "outputId": "48b283b0-220a-4b09-b6fd-d01ce5414928"
      },
      "execution_count": 3,
      "outputs": [
        {
          "output_type": "execute_result",
          "data": {
            "text/plain": [
              "{'Big Macs': 3.99, 'Filet Mignon': 29.99, 'Pizza': 0.99, 'Salmon': 29.99}"
            ]
          },
          "metadata": {},
          "execution_count": 3
        }
      ]
    },
    {
      "cell_type": "code",
      "source": [
        "len(menu)"
      ],
      "metadata": {
        "colab": {
          "base_uri": "https://localhost:8080/"
        },
        "id": "Jx3ZM-iHvZsk",
        "outputId": "0dcce837-98ed-46bf-9beb-7d67fea99e9a"
      },
      "execution_count": 4,
      "outputs": [
        {
          "output_type": "execute_result",
          "data": {
            "text/plain": [
              "4"
            ]
          },
          "metadata": {},
          "execution_count": 4
        }
      ]
    },
    {
      "cell_type": "code",
      "source": [
        "menu[\"Big Macs\"]"
      ],
      "metadata": {
        "colab": {
          "base_uri": "https://localhost:8080/"
        },
        "id": "n6lTVbwsvgl2",
        "outputId": "7ecf9b8a-4922-446a-c0e8-addf5a6f8a5d"
      },
      "execution_count": 5,
      "outputs": [
        {
          "output_type": "execute_result",
          "data": {
            "text/plain": [
              "3.99"
            ]
          },
          "metadata": {},
          "execution_count": 5
        }
      ]
    },
    {
      "cell_type": "code",
      "source": [
        "menu[\"Salmon\"]"
      ],
      "metadata": {
        "colab": {
          "base_uri": "https://localhost:8080/"
        },
        "id": "yWJr3EsUvmgf",
        "outputId": "1da452fe-0568-4de1-c449-96237eea0003"
      },
      "execution_count": 6,
      "outputs": [
        {
          "output_type": "execute_result",
          "data": {
            "text/plain": [
              "29.99"
            ]
          },
          "metadata": {},
          "execution_count": 6
        }
      ]
    },
    {
      "cell_type": "code",
      "source": [
        "menu['Burritos']=13.99"
      ],
      "metadata": {
        "id": "BKcQHFqfvqX0"
      },
      "execution_count": 7,
      "outputs": []
    },
    {
      "cell_type": "code",
      "source": [
        "menu"
      ],
      "metadata": {
        "colab": {
          "base_uri": "https://localhost:8080/"
        },
        "id": "jft-xjk0v4m3",
        "outputId": "93a4798a-a782-406f-d533-323661e90bcb"
      },
      "execution_count": 8,
      "outputs": [
        {
          "output_type": "execute_result",
          "data": {
            "text/plain": [
              "{'Big Macs': 3.99,\n",
              " 'Burritos': 13.99,\n",
              " 'Filet Mignon': 29.99,\n",
              " 'Pizza': 0.99,\n",
              " 'Salmon': 29.99}"
            ]
          },
          "metadata": {},
          "execution_count": 8
        }
      ]
    },
    {
      "cell_type": "code",
      "source": [
        "menu[\"Big Macs\"]=5.99"
      ],
      "metadata": {
        "id": "LzMV9pWtv6CZ"
      },
      "execution_count": 9,
      "outputs": []
    },
    {
      "cell_type": "code",
      "source": [
        "menu"
      ],
      "metadata": {
        "colab": {
          "base_uri": "https://localhost:8080/"
        },
        "id": "CFf8EH86wc6J",
        "outputId": "2aff7d25-8a44-4ef8-832b-a74bcb1e8412"
      },
      "execution_count": 10,
      "outputs": [
        {
          "output_type": "execute_result",
          "data": {
            "text/plain": [
              "{'Big Macs': 5.99,\n",
              " 'Burritos': 13.99,\n",
              " 'Filet Mignon': 29.99,\n",
              " 'Pizza': 0.99,\n",
              " 'Salmon': 29.99}"
            ]
          },
          "metadata": {},
          "execution_count": 10
        }
      ]
    },
    {
      "cell_type": "code",
      "source": [
        "menu.values()"
      ],
      "metadata": {
        "colab": {
          "base_uri": "https://localhost:8080/"
        },
        "id": "1JqP1vzGwedb",
        "outputId": "e4cb9d04-eecf-499c-ee20-bf4746f01b35"
      },
      "execution_count": 11,
      "outputs": [
        {
          "output_type": "execute_result",
          "data": {
            "text/plain": [
              "dict_values([29.99, 5.99, 0.99, 29.99, 13.99])"
            ]
          },
          "metadata": {},
          "execution_count": 11
        }
      ]
    },
    {
      "cell_type": "code",
      "source": [
        "\"Pizza\" in menu"
      ],
      "metadata": {
        "colab": {
          "base_uri": "https://localhost:8080/"
        },
        "id": "YGOHGCpTxBYn",
        "outputId": "33b6f33d-1f74-4b80-b559-4211f999906d"
      },
      "execution_count": 12,
      "outputs": [
        {
          "output_type": "execute_result",
          "data": {
            "text/plain": [
              "True"
            ]
          },
          "metadata": {},
          "execution_count": 12
        }
      ]
    },
    {
      "cell_type": "code",
      "source": [
        "\"Big Macs\" not in menu"
      ],
      "metadata": {
        "colab": {
          "base_uri": "https://localhost:8080/"
        },
        "id": "pACFe4gKxFVN",
        "outputId": "c9643df1-f2d5-4a6b-d9f7-27ac06e36fa1"
      },
      "execution_count": 13,
      "outputs": [
        {
          "output_type": "execute_result",
          "data": {
            "text/plain": [
              "False"
            ]
          },
          "metadata": {},
          "execution_count": 13
        }
      ]
    },
    {
      "cell_type": "code",
      "source": [
        "29.99 in menu.values()"
      ],
      "metadata": {
        "colab": {
          "base_uri": "https://localhost:8080/"
        },
        "id": "MVEW3lgpxJuC",
        "outputId": "136c85c8-9952-4b5c-faed-3ab54a5394d7"
      },
      "execution_count": 15,
      "outputs": [
        {
          "output_type": "execute_result",
          "data": {
            "text/plain": [
              "True"
            ]
          },
          "metadata": {},
          "execution_count": 15
        }
      ]
    },
    {
      "cell_type": "code",
      "source": [
        "100.09 in menu.values()"
      ],
      "metadata": {
        "colab": {
          "base_uri": "https://localhost:8080/"
        },
        "id": "c-B1ck_dxRiQ",
        "outputId": "afe76f47-f211-49ba-8b8d-c95ea4011c3e"
      },
      "execution_count": 16,
      "outputs": [
        {
          "output_type": "execute_result",
          "data": {
            "text/plain": [
              "False"
            ]
          },
          "metadata": {},
          "execution_count": 16
        }
      ]
    }
  ]
}