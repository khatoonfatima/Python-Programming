{
  "nbformat": 4,
  "nbformat_minor": 0,
  "metadata": {
    "colab": {
      "name": "Multiple If statements in Succession.ipynb",
      "provenance": [],
      "authorship_tag": "ABX9TyOHdkMkb5s1HI27sfM0ylEG",
      "include_colab_link": true
    },
    "kernelspec": {
      "name": "python3",
      "display_name": "Python 3"
    },
    "language_info": {
      "name": "python"
    }
  },
  "cells": [
    {
      "cell_type": "markdown",
      "metadata": {
        "id": "view-in-github",
        "colab_type": "text"
      },
      "source": [
        "<a href=\"https://colab.research.google.com/github/khatoonfatima/Python-Programming/blob/master/Multiple_If_statements_in_Succession.ipynb\" target=\"_parent\"><img src=\"https://colab.research.google.com/assets/colab-badge.svg\" alt=\"Open In Colab\"/></a>"
      ]
    },
    {
      "cell_type": "code",
      "metadata": {
        "id": "Wm33e411SeMG"
      },
      "source": [
        ""
      ],
      "execution_count": 21,
      "outputs": []
    },
    {
      "cell_type": "code",
      "metadata": {
        "id": "bPhkQfmIT175",
        "colab": {
          "base_uri": "https://localhost:8080/"
        },
        "outputId": "ae5e7ec8-e2c3-4116-9862-fffb44bde2be"
      },
      "source": [
        "print(\"Welcome to the roller coaster Program\")\n",
        "bill=0\n",
        "\n",
        "height=float(input(\"Enter the height in cm\"))\n",
        "if height>120:\n",
        "  print(\"You can take the ride\")\n",
        "  age=int(input(\"Enter your age in numbers\"))\n",
        "\n",
        "  if age <12:\n",
        "    bill=5\n",
        "    print(\"You have to pay 5 pounds\")\n",
        "  elif age > 12 and age <18:\n",
        "    bill=7\n",
        "    print(\"You have to pay 7 pounds\")\n",
        "  elif age >18 :\n",
        "    bill=12\n",
        "    print(\"You have to pay to pay 12 pounds\")\n",
        "  else:\n",
        "    print(\"No ride\")  \n",
        "\n",
        "  photos=input(\"Do you want to take photo? Y or N\")\n",
        "  if photos=='Y':\n",
        "   bill=bill +3\n",
        "\n",
        "   print(f'You total bill is{bill}')\n",
        "\n",
        "\n",
        "else:\n",
        "  (\"Sorry! you can't take the ride\")"
      ],
      "execution_count": 21,
      "outputs": [
        {
          "output_type": "stream",
          "name": "stdout",
          "text": [
            "Welcome to the roller coaster Program\n",
            "Enter the height in cm1123\n",
            "You can take the ride\n",
            "Enter your age in numbers15\n",
            "You have to pay 7 pounds\n",
            "Do you want to take photo? Y or NY\n",
            "You total bill is10\n"
          ]
        }
      ]
    },
    {
      "cell_type": "code",
      "metadata": {
        "id": "DPVglWigCRFI"
      },
      "source": [
        "\n"
      ],
      "execution_count": 18,
      "outputs": []
    }
  ]
}